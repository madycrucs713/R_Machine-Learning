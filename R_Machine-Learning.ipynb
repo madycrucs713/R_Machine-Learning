{
 "cells": [
  {
   "cell_type": "code",
   "execution_count": null,
   "id": "d0c89b7c-c402-43e6-bf43-d477cbeabc07",
   "metadata": {},
   "outputs": [],
   "source": [
    "library(caret)\n",
    "\n",
    "#Load dataset\n",
    "data(iris)\n",
    "dataset = iris"
   ]
  },
  {
   "cell_type": "code",
   "execution_count": null,
   "id": "9c0cf201-9a86-41d0-be55-324f2bd879d6",
   "metadata": {},
   "outputs": [],
   "source": [
    "#Create a dataset using 80% of rows\n",
    "validation_index = createDataPartition(dataset$Species, p=0.80, list=FALSE)\n",
    "\n",
    "#Selet 20% of the dataset for validation\n",
    "validation = dataset[-validation_index,]\n",
    "\n",
    "#Use the remaining 80% of the dataset for training and testing\n",
    "dataset = dataset[validation_index,]\n",
    "\n",
    "#Show dimesions of dataset\n",
    "dim(dataset)\n",
    "\n",
    "#List types for each atribute\n",
    "sapply(dataset, class)\n",
    "\n",
    "#Show first 5 rows of dataset\n",
    "head(dataset)\n",
    "\n",
    "#List the levels for each class\n",
    "levels(dataset$Species)\n",
    "\n",
    "#Summarize class distribution\n",
    "percentage <- prop.table(table(dataset$Species)) * 100\n",
    "cbind(freq=table(dataset$Species), percentage=percentage)\n",
    "\n",
    "# summarize attribute distributions\n",
    "summary(dataset)"
   ]
  },
  {
   "cell_type": "code",
   "execution_count": null,
   "id": "1f90a431-8146-48ff-90db-8c03602e8680",
   "metadata": {},
   "outputs": [],
   "source": [
    "#Define x and y\n",
    "x = dataset[,1:4]\n",
    "y = dataset[,5]\n",
    "\n",
    "#Create a boxplot for each attribute\n",
    "par(mfrow=c(1,4))\n",
    "  for(i in 1:4) {\n",
    "  boxplot(x[,i], main=names(iris)[i])\n",
    "}\n",
    "\n",
    "#Create a barplot for class breakdown\n",
    "plot(y)"
   ]
  },
  {
   "cell_type": "code",
   "execution_count": null,
   "id": "7fcfe7d3-8a7b-4d74-aa0a-ef92c7339601",
   "metadata": {},
   "outputs": [],
   "source": [
    "#Create scatterplot matrix\n",
    "featurePlot(x=x, y=y, plot=\"ellipse\")"
   ]
  },
  {
   "cell_type": "code",
   "execution_count": null,
   "id": "f50bcab3-7214-4d8d-a6b3-b383e70f2086",
   "metadata": {},
   "outputs": [],
   "source": [
    "#Create boxplots for each attribute\n",
    "featurePlot(x=x, y=y, plot=\"box\")"
   ]
  },
  {
   "cell_type": "code",
   "execution_count": null,
   "id": "abab95a4-4c07-4106-90c0-202991f919f3",
   "metadata": {},
   "outputs": [],
   "source": [
    "#Create density plots for each attribute by class value\n",
    "scales = list(x=list(relation=\"free\"), y=list(relation=\"free\"))\n",
    "featurePlot(x=x, y=y, plot=\"density\", scales=scales)"
   ]
  },
  {
   "cell_type": "code",
   "execution_count": 27,
   "id": "b9a022fa-8c9b-4f42-9b7d-9c648abdfcf4",
   "metadata": {},
   "outputs": [
    {
     "data": {
      "text/plain": [
       "\n",
       "Call:\n",
       "summary.resamples(object = results)\n",
       "\n",
       "Models: lda, cart, knn, svm, rf \n",
       "Number of resamples: 10 \n",
       "\n",
       "Accuracy \n",
       "          Min. 1st Qu. Median      Mean 3rd Qu. Max. NA's\n",
       "lda  1.0000000       1      1 1.0000000       1    1    0\n",
       "cart 0.6666667       1      1 0.9666667       1    1    0\n",
       "knn  1.0000000       1      1 1.0000000       1    1    0\n",
       "svm  0.8000000       1      1 0.9800000       1    1    0\n",
       "rf   1.0000000       1      1 1.0000000       1    1    0\n",
       "\n",
       "Kappa \n",
       "          Min. 1st Qu. Median      Mean 3rd Qu. Max. NA's\n",
       "lda  1.0000000       1      1 1.0000000       1    1    0\n",
       "cart 0.5000000       1      1 0.9500000       1    1    0\n",
       "knn  1.0000000       1      1 1.0000000       1    1    0\n",
       "svm  0.7058824       1      1 0.9705882       1    1    0\n",
       "rf   1.0000000       1      1 1.0000000       1    1    0\n"
      ]
     },
     "metadata": {},
     "output_type": "display_data"
    },
    {
     "name": "stdout",
     "output_type": "stream",
     "text": [
      "Linear Discriminant Analysis \n",
      "\n",
      "36 samples\n",
      " 4 predictor\n",
      " 3 classes: 'setosa', 'versicolor', 'virginica' \n",
      "\n",
      "No pre-processing\n",
      "Resampling: Cross-Validated (10 fold) \n",
      "Summary of sample sizes: 33, 33, 31, 33, 32, 33, ... \n",
      "Resampling results:\n",
      "\n",
      "  Accuracy  Kappa\n",
      "  1         1    \n",
      "\n"
     ]
    },
    {
     "data": {
      "image/png": "[encoded data removed]",
      "text/plain": [
       "plot without title"
      ]
     },
     "metadata": {
      "image/png": {
       "height": 420,
       "width": 420
      }
     },
     "output_type": "display_data"
    }
   ],
   "source": [
    "#Run algorithms using 10-fold cross validation\n",
    "control = trainControl(method=\"cv\", number=10)\n",
    "metric = \"Accuracy\"\n",
    "\n",
    "#Linear algorithms\n",
    "set.seed(7)\n",
    "fit.lda = train(Species~., data=dataset, method=\"lda\", metric=metric, trControl=control)\n",
    "\n",
    "#Nonlinear algorithms\n",
    "# CART\n",
    "set.seed(7)\n",
    "fit.cart = train(Species~., data=dataset, method=\"rpart\", metric=metric, trControl=control)\n",
    "\n",
    "# kNN\n",
    "set.seed(7)\n",
    "fit.knn = train(Species~., data=dataset, method=\"knn\", metric=metric, trControl=control)\n",
    "\n",
    "#Advanced algorithms\n",
    "# SVM\n",
    "set.seed(7)\n",
    "fit.svm = train(Species~., data=dataset, method=\"svmRadial\", metric=metric, trControl=control)\n",
    "\n",
    "# Random Forest\n",
    "set.seed(7)\n",
    "fit.rf = train(Species~., data=dataset, method=\"rf\", metric=metric, trControl=control)\n",
    "\n",
    "#Summarize accuracy of models\n",
    "results = resamples(list(lda=fit.lda, cart=fit.cart, knn=fit.knn, svm=fit.svm, rf=fit.rf))\n",
    "summary(results)\n",
    "\n",
    "#Compare accuracy of models\n",
    "dotplot(results)"
   ]
  },
  {
   "cell_type": "code",
   "execution_count": 26,
   "id": "29001aa0-7cff-438c-b9a1-76a522c4ef0b",
   "metadata": {},
   "outputs": [
    {
     "name": "stdout",
     "output_type": "stream",
     "text": [
      "Linear Discriminant Analysis \n",
      "\n",
      "36 samples\n",
      " 4 predictor\n",
      " 3 classes: 'setosa', 'versicolor', 'virginica' \n",
      "\n",
      "No pre-processing\n",
      "Resampling: Cross-Validated (10 fold) \n",
      "Summary of sample sizes: 33, 33, 31, 33, 32, 33, ... \n",
      "Resampling results:\n",
      "\n",
      "  Accuracy  Kappa\n",
      "  1         1    \n",
      "\n"
     ]
    }
   ],
   "source": []
  },
  {
   "cell_type": "code",
   "execution_count": null,
   "id": "b0dcee7a-d7a2-4fd4-9e42-aec86e4241b8",
   "metadata": {},
   "outputs": [],
   "source": []
  }
 ],
 "metadata": {
  "kernelspec": {
   "display_name": "R_pylm-environment",
   "language": "R",
   "name": "ir_pylm-environment"
  },
  "language_info": {
   "codemirror_mode": "r",
   "file_extension": ".r",
   "mimetype": "text/x-r-source",
   "name": "R",
   "pygments_lexer": "r",
   "version": "4.3.1"
  }
 },
 "nbformat": 4,
 "nbformat_minor": 5
}
